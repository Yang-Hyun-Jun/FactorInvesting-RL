{
 "cells": [
  {
   "attachments": {},
   "cell_type": "markdown",
   "metadata": {},
   "source": [
    "### Quality (Profitability) + Value Factor\n",
    "\n",
    "[**Profitability**] <br>\n",
    "GPOA = 매출총이익 / 총자산 <br>\n",
    "CFOA = 영업활동현금흐름 / 총자산 <br>\n",
    "GMAR = 매출총이익 / 매출액 <br>\n",
    "ROE = 순이익 / 자본 <br>\n",
    "ROA = 순이익 / 자산 <br> \n",
    "\n",
    "[**Value**] <br>\n",
    "PER (Price Earnings Ratio): 시가총액 / 당기순이익 <br>\n",
    "PBR (Price Book value Ratio): 시가총액 / 자본 <br>\n",
    "PSR (Price Sales revenue Ratio): 시가총액 / 매출액 <br>\n",
    "PCR (Price Cash flow Ratio): 시가총액 / 영업활동현금흐름 <br>\n",
    "EPS (Earning Price Ratio): 당기순이익 / 발행주식수 <br>\n",
    "\n",
    "[**Momentum**] <br>\n",
    "3M: 3개월 모멘텀 <br>\n",
    "6M: 6개월 모멘텀 <br>\n",
    "9M: 9개월 모멘텀 <br>\n",
    "12M: 12개월 모멘텀 <br>"
   ]
  },
  {
   "cell_type": "code",
   "execution_count": 1,
   "metadata": {},
   "outputs": [
    {
     "name": "stdout",
     "output_type": "stream",
     "text": [
      "/home/hyunjun/workspace/FactorSearch (mom)\n"
     ]
    }
   ],
   "source": [
    "cd .."
   ]
  },
  {
   "cell_type": "code",
   "execution_count": 2,
   "metadata": {},
   "outputs": [],
   "source": [
    "import os\n",
    "import pandas as pd\n",
    "import numpy as np\n",
    "import seaborn as sns\n",
    "import matplotlib.pyplot as plt\n",
    "\n",
    "from numpy.random import random\n",
    "from scipy.stats import zscore\n",
    "\n",
    "np.set_printoptions(suppress=True)"
   ]
  },
  {
   "cell_type": "code",
   "execution_count": 15,
   "metadata": {},
   "outputs": [],
   "source": [
    "class FactorManager:\n",
    "\n",
    "    \"\"\"\n",
    "    투자 유니버스가 되는 종목들의 \n",
    "    Momentum Factor 데이터를 관리한다.\n",
    "\n",
    "    1M, 3M, 6M, 9M, 12M\n",
    "\n",
    "    M12_1, M12_3, M12_6, M12_9\n",
    "\n",
    "    Kratio\n",
    "    \"\"\"\n",
    "\n",
    "    path1 = 'data2/factors_kr.csv'\n",
    "    path2 = 'data2/price_kr.csv'\n",
    "    path3 = 'data2/kospi.csv'\n",
    "\n",
    "    def __init__(self, factors):    \n",
    "        \"\"\"\n",
    "        all: 전 종목의 모든 팩터의 값을 담고 있는 데이터프레임\n",
    "        price: 전 종목의 종가 값을 담고 있는 데이터프레임\n",
    "        kospi: 코스피 지수 종가 값을 담고 있는 데이터프레임\n",
    "        \n",
    "\n",
    "        [Ex: all]\n",
    "        종목코드  기준일       팩터   값\n",
    "        000990  2016-03-31  1M  0.04707\n",
    "        000990  2016-03-31  3M   0.0786\n",
    "        ...     ...         ...     ...\n",
    "        035000  2023-06-31  6M   0.008364\n",
    "        \"\"\"    \n",
    "        self.all = pd.read_csv(self.path1, index_col=0, dtype={'종목코드':str})\n",
    "        self.kospi = pd.read_csv(self.path3, index_col=0)\n",
    "        self.price = pd.read_csv(self.path2, index_col=0)\n",
    "        self.factors = factors\n",
    "\n",
    "    def get_FactorData(self, name:str) -> pd.DataFrame:\n",
    "        \"\"\"\n",
    "        하나의 팩터 이름을 받아, \n",
    "        해당 팩터의 전 종목에 대한 값 데이터를 리턴\n",
    "\n",
    "        \n",
    "        [Ex: self.get_FactorData('PER')]\n",
    "        종목코드      000990  001040  001230   001250  ... \n",
    "        기준일\n",
    "        \n",
    "        2016-03-31  0.03984 0.06998  0.03678  0.03482 ...   \n",
    "        2016-06-30  0.03820 0.09536  0.09001  0.09153 ...\n",
    "        ...\n",
    "        2022-06-30 \n",
    "        \"\"\"\n",
    "\n",
    "        factor_data = self.all[self.all['팩터'] == name][['종목코드', '날짜', '값']]\n",
    "        factor_data = factor_data.pivot(index='날짜', columns='종목코드', values='값')\n",
    "        return factor_data\n",
    "    \n",
    "    def get_ScoreEACH(self, date:str) -> pd.DataFrame:\n",
    "        \"\"\"\n",
    "        특정 Date에서 각 종목들의 팩터별 스코어 데이터 리턴 (MinMax)\n",
    "\n",
    "        \n",
    "        [Ex: self.get_ScoreEACH('2022-12-31')]\n",
    "        팩터       1M   3M   6M   ...   Kratio\n",
    "        종목코드\n",
    "        000990    1.0    9.0   41.0   ...   45.0\n",
    "        001040    13.0   5.0   13.0   ...   1.0 \n",
    "        ...\n",
    "        001520    8.0    16.0  20.0   ...   13.0\n",
    "        \"\"\"\n",
    "        values = self.all[self.all['날짜'] == date][['종목코드', '팩터', '값']]\n",
    "        values = values.pivot(index='종목코드', columns='팩터', values='값')\n",
    "        self.set_w()\n",
    "        \n",
    "        is_ascending = {\n",
    "            '1M': True, '3M': True, \n",
    "            '6M': True,  '9M': True,\n",
    "            '12M': True, '12_1M': True, \n",
    "            '12_3M': True, '12_6M': True,\n",
    "            '12_9M': True, 'Kratio': True,\n",
    "            }  \n",
    "        \n",
    "        factor_score = values[self.factors]\n",
    "        factor_score = factor_score.apply(self.rankin_func)\n",
    "        factor_score = factor_score.apply(self.minmax_func)\n",
    "        factor_score = factor_score.apply(self.weight_func)\n",
    "        return factor_score\n",
    "    \n",
    "    def get_RankALL(self):\n",
    "        \"\"\"\n",
    "        각 팩터 스코어를 합하여 토탈 랭킹 데이터 리턴\n",
    "\n",
    "        [Ex: self.get_ScoreSUM()]\n",
    "        종목코드    000990  001040  001230   001250  ... \n",
    "        기준일\n",
    "        \n",
    "        2016-03-31  9.0     7.0     17.0    2.0 ...   \n",
    "        2016-06-30  9.0     6.0     1.0     51.0 ...\n",
    "        ...\n",
    "        2022-06-30 \n",
    "        \"\"\"\n",
    "        dates = self.price.index\n",
    "        rank_all = [self.get_ScoreEACH(date)[self.factors].\\\n",
    "                    sum(axis=1).rank(method='first', ascending=False) for date in dates]\n",
    "        rank_all = pd.concat(rank_all, axis=1).transpose()\n",
    "        rank_all.index = dates\n",
    "        return rank_all\n",
    "    \n",
    "    def set_w(self, value=None):\n",
    "        \"\"\"\n",
    "        각 팩터의 가중치를 결정하는 함수\n",
    "        \"\"\"\n",
    "\n",
    "        default_weight = dict(zip(self.factors, np.ones(len(self.factors))))\n",
    "        self.weight_dict = default_weight if value is None else \\\n",
    "            dict(zip(self.factors, value))\n",
    "        \n",
    "    def rankin_func(self, series):\n",
    "        return series.rank(method='first')\n",
    "    \n",
    "    def weight_func(self, series):\n",
    "        return series*self.weight_dict[series.name]\n",
    "    \n",
    "    def minmax_func(self, series):\n",
    "        return (series-min(series)) / (max(series)-min(series)) + 1"
   ]
  },
  {
   "cell_type": "code",
   "execution_count": 16,
   "metadata": {},
   "outputs": [],
   "source": [
    "factors = ['1M', '3M', '6M', '9M', '12M', '12_1M', '12_3M', '12_6M', '12_9M', 'Kratio']"
   ]
  },
  {
   "cell_type": "code",
   "execution_count": 26,
   "metadata": {},
   "outputs": [],
   "source": [
    "FM = FactorManager(factors)"
   ]
  },
  {
   "attachments": {},
   "cell_type": "markdown",
   "metadata": {},
   "source": [
    "Ex) get_FactorData()"
   ]
  },
  {
   "cell_type": "code",
   "execution_count": null,
   "metadata": {},
   "outputs": [],
   "source": [
    "FM.get_FactorData('Kratio').head()"
   ]
  },
  {
   "attachments": {},
   "cell_type": "markdown",
   "metadata": {},
   "source": [
    "Ex) get_Ranking()"
   ]
  },
  {
   "cell_type": "code",
   "execution_count": null,
   "metadata": {},
   "outputs": [],
   "source": [
    "FM.get_ScoreEACH('2022-03-31').head()"
   ]
  },
  {
   "attachments": {},
   "cell_type": "markdown",
   "metadata": {},
   "source": [
    "Ex) get_RankingSUM()"
   ]
  },
  {
   "cell_type": "code",
   "execution_count": null,
   "metadata": {},
   "outputs": [],
   "source": [
    "FM.get_RankALL().head()"
   ]
  },
  {
   "attachments": {},
   "cell_type": "markdown",
   "metadata": {},
   "source": [
    "Multi Factor (Quality + Value) Portfolio, Rebalancing-3M"
   ]
  },
  {
   "cell_type": "code",
   "execution_count": 20,
   "metadata": {},
   "outputs": [],
   "source": [
    "\"\"\" \n",
    "멀티 팩터 토탈 랭킹 (동일 가중 합 랭킹) 데이터로 변환\n",
    "\"\"\"\n",
    "universe = FM.price.copy()['2001':'2016']\n",
    "rank_all = FM.get_RankALL()['2001':'2016']"
   ]
  },
  {
   "cell_type": "code",
   "execution_count": 21,
   "metadata": {},
   "outputs": [],
   "source": [
    "def get_action(index: int, top_n: int, q: int=1):\n",
    "    tickers = universe.columns.to_numpy()\n",
    "    ticker = tickers[(rank_all.iloc[index].to_numpy() <= top_n * q) &\n",
    "                     (rank_all.iloc[index].to_numpy() > top_n * (q-1))]\n",
    "    \n",
    "    weight = np.ones(top_n) / top_n\n",
    "    return ticker, weight"
   ]
  },
  {
   "cell_type": "code",
   "execution_count": 22,
   "metadata": {},
   "outputs": [],
   "source": [
    "\"\"\"\n",
    "Backtesting Loop\n",
    "\"\"\"\n",
    "\n",
    "from object import Portfolio\n",
    "from object import Order\n",
    "from datetime import datetime\n",
    "st = datetime.strptime\n",
    "\n",
    "q = 1\n",
    "n = 10\n",
    "cum_profitloss = 0\n",
    "balance = 0\n",
    "init_balance = 1000\n",
    "portfolio_value = init_balance\n",
    "quarter = '1Q'\n",
    "freq = {'1Q': range(1,13), '2Q': [6, 12], '4Q': [12]}\n",
    "\n",
    "PVs = []\n",
    "PFs = []\n",
    "POs = []\n",
    "TIs = []\n",
    "\n",
    "for i in range(0, len(universe)):\n",
    "\n",
    "    ticker_old, weight_old = get_action(i, n, q)\n",
    "    p_old = Portfolio(ticker_old, weight_old) if i == 0 else p_old\n",
    "    price_old = universe.iloc[i][p_old.ticker].values if i == 0 else price_old\n",
    "\n",
    "    POs.append(p_old.weight)\n",
    "    TIs.append(p_old.ticker)\n",
    "    PVs.append(portfolio_value)\n",
    "    PFs.append(cum_profitloss)\n",
    "    \n",
    "    # 여기는 get_price 함수로 (인자는 ticker 받도록)\n",
    "    price_old = universe.iloc[i-1][p_old.ticker].values\n",
    "    price_now = universe.iloc[i][p_old.ticker].values\n",
    "\n",
    "    # 다음 타임 스텝에서 가격 변동으로 인한 포트폴리오 변화\n",
    "    ratio = (price_now - price_old) / price_old\n",
    "    ratio = np.where(np.isnan(ratio), np.float64(-0.99), ratio)\n",
    "\n",
    "    profitloss = np.dot(ratio, p_old.weight)\n",
    "    portfolio_value *= (1 + profitloss)\n",
    "    cum_profitloss = ((portfolio_value / init_balance -1) * 100)\n",
    "\n",
    "    weight_now = p_old.weight * (1+ratio) \n",
    "    weight_now = weight_now / np.sum(weight_now)\n",
    "\n",
    "    p_old.update_weight(weight_now)\n",
    "    \n",
    "    # Desired Portfolio\n",
    "    check = st(rank_all.index[i], '%Y-%m-%d').month in freq[quarter]\n",
    "    ticker, weight = get_action(i, n, q) if check else (p_old.ticker, p_old.weight)\n",
    "    p_new = Portfolio(ticker, weight)\n",
    "\n",
    "    \"\"\"\n",
    "    Order 계산\n",
    "    \"\"\"\n",
    "    # Gap 계산 대상\n",
    "    gap_ticker = p_old.ticker[np.isin(p_old.ticker, p_new.ticker)] \n",
    "\n",
    "    # Gap 사이즈\n",
    "    gap_size = p_new.weight[np.isin(p_old.ticker, p_new.ticker)] - \\\n",
    "        p_old.weight[np.isin(p_old.ticker, p_new.ticker)]\n",
    "    \n",
    "    # 매도 대상\n",
    "    sell_ticker = p_old.ticker[~ np.isin(p_old.ticker, p_new.ticker)]\n",
    "\n",
    "    # 매도 대상 사이즈\n",
    "    sell_size = -p_old.weight[~ np.isin(p_old.ticker, p_new.ticker)]\n",
    "\n",
    "    # 매수 대상\n",
    "    buy_ticker = p_new.ticker[~ np.isin(p_new.ticker, p_old.ticker)]\n",
    "\n",
    "    # 매수 대상 사이즈\n",
    "    buy_size = p_new.weight[~ np.isin(p_new.ticker, p_old.ticker)]\n",
    "\n",
    "    # 오더\n",
    "    order = Order()\n",
    "\n",
    "    gap_order = (gap_ticker, gap_size)\n",
    "    sell_order = (sell_ticker, sell_size)\n",
    "    buy_order = (buy_ticker, buy_size)\n",
    "\n",
    "    order.append(*gap_order)\n",
    "    order.append(*sell_order)\n",
    "    order.append(*buy_order)\n",
    "        \n",
    "    # 보유하고 있는 종목과 보유할 종목을 combine 해놓기\n",
    "    combine = {}.fromkeys(order.ticker, 0.0)\n",
    "    combine.update(p_old.dict)\n",
    "    weight = np.fromiter(combine.values(), dtype=np.float64)\n",
    "    \n",
    "    \"\"\"\n",
    "    거래 \n",
    "    \"\"\"\n",
    "    CHARGE = 0.000 #0.001\n",
    "    TEX = 0.0000 #0.0025\n",
    "    FEE = 0.0\n",
    "\n",
    "    sell_cost = CHARGE + TEX\n",
    "    buy_cost = CHARGE\n",
    "\n",
    "    action = order.size\n",
    "\n",
    "    # 매도 주문부터\n",
    "    sell_ind = np.where( (action < 0) )[0]\n",
    "    weight[sell_ind] += action[sell_ind]\n",
    "    sell_moneys = portfolio_value * abs(action[sell_ind]) * (1.0-sell_cost)\n",
    "    sell_amount = np.sum(sell_moneys) \n",
    "    balance += sell_amount\n",
    "    FEE += sell_amount * sell_cost\n",
    "\n",
    "    # 매수 주문 처리\n",
    "    buy_ind = np.where( (action > 0) )[0]\n",
    "    buy_moneys = portfolio_value * action[buy_ind] * (1.0+buy_cost)\n",
    "    buy_amount = np.sum(buy_moneys) \n",
    "\n",
    "    allocation = buy_moneys / buy_amount\n",
    "\n",
    "    buy_fee = balance * (buy_cost/(1+buy_cost)) \n",
    "    feasible_buy_moneys = (balance - buy_fee) * allocation \n",
    "    feasible_buy_amount = np.sum(feasible_buy_moneys)\n",
    "    feasible_buy_action = feasible_buy_moneys / portfolio_value\n",
    "    FEE += feasible_buy_amount * buy_cost # (= buy_fee)\n",
    "\n",
    "    weight[buy_ind] += feasible_buy_action\n",
    "    weight = weight / np.sum(weight)\n",
    "\n",
    "    portfolio_value -= FEE\n",
    "    balance -= feasible_buy_amount \n",
    "\n",
    "    p_old = Portfolio(order.ticker[weight>0], weight[weight>0])"
   ]
  },
  {
   "cell_type": "code",
   "execution_count": 23,
   "metadata": {},
   "outputs": [
    {
     "data": {
      "text/plain": [
       "<matplotlib.legend.Legend at 0x7fe7d090fd60>"
      ]
     },
     "execution_count": 23,
     "metadata": {},
     "output_type": "execute_result"
    },
    {
     "data": {
      "image/png": "[encoded data removed]",
      "text/plain": [
       "<Figure size 1200x600 with 1 Axes>"
      ]
     },
     "metadata": {},
     "output_type": "display_data"
    }
   ],
   "source": [
    "kospi_ = (FM.kospi[:] / FM.kospi[:].iloc[0]) - 1\n",
    "\n",
    "sns.set(style='darkgrid')\n",
    "plt.figure(figsize=(12, 6))\n",
    "plt.plot(np.log(PVs), label='MULTI FACTOR PORFTOLIO-3M')\n",
    "# plt.plot(kospi_ * 100, label='KOSPI-INDEX')\n",
    "plt.legend()"
   ]
  },
  {
   "attachments": {},
   "cell_type": "markdown",
   "metadata": {},
   "source": [
    "Sharpe ratio, MDD, alpha (CAPM), RankIC"
   ]
  },
  {
   "cell_type": "code",
   "execution_count": 24,
   "metadata": {},
   "outputs": [],
   "source": [
    "def get_mdd(pvs):\n",
    "    df = pd.DataFrame(pvs)\n",
    "    premaxs = df.cummax()\n",
    "    drawdowns = (1-df / premaxs) * 100\n",
    "    mdd = drawdowns.max().iloc[0]\n",
    "    return mdd\n",
    "\n",
    "def get_sharpe(pvs):\n",
    "    pvs = np.array(pvs)\n",
    "    pct = (pvs[1:] - pvs[:-1]) / pvs[:-1]\n",
    "    free = (0.04) / 4\n",
    "    ratio = np.mean(pct - free) / np.std(pct)\n",
    "    return ratio\n",
    "\n",
    "def get_RankIC(q):\n",
    "    rank = FM.get_RankALL()\n",
    "    rate = FM.price.pct_change().iloc[1:].rank(ascending=False)\n",
    "    rank = rank[(rank <= n*q) & (rank > n*(q-1))]\n",
    "    coeffs = []\n",
    "    \n",
    "    for i in range(len(rate)):\n",
    "        data1 = rank.iloc[i].dropna()\n",
    "        data2 = rate.iloc[i][data1.index.to_numpy()]\n",
    "        coeff = np.corrcoef(data1, data2)\n",
    "        coeffs.append(coeff)\n",
    "\n",
    "    RankIC = np.mean(coeffs)\n",
    "    return RankIC"
   ]
  },
  {
   "cell_type": "code",
   "execution_count": 25,
   "metadata": {},
   "outputs": [
    {
     "name": "stdout",
     "output_type": "stream",
     "text": [
      "MDD: 54.04331567861542 \n",
      "\n",
      "SR: 0.10341650936563719 \n",
      "\n",
      "RankIC: 0.48769488198179073 \n",
      "\n"
     ]
    }
   ],
   "source": [
    "print(f'MDD: {get_mdd(PVs)} \\n')\n",
    "print(f'SR: {get_sharpe(PVs)} \\n')\n",
    "print(f'RankIC: {get_RankIC(q=1)} \\n')"
   ]
  }
 ],
 "metadata": {
  "kernelspec": {
   "display_name": "factor",
   "language": "python",
   "name": "python3"
  },
  "language_info": {
   "codemirror_mode": {
    "name": "ipython",
    "version": 3
   },
   "file_extension": ".py",
   "mimetype": "text/x-python",
   "name": "python",
   "nbconvert_exporter": "python",
   "pygments_lexer": "ipython3",
   "version": "3.9.16"
  },
  "orig_nbformat": 4,
  "vscode": {
   "interpreter": {
    "hash": "f51e0da3e3d90447dcadba55e0cb4a38546033c4e076c9d4b80673409e62cb43"
   }
  }
 },
 "nbformat": 4,
 "nbformat_minor": 2
}

{
 "cells": [
  {
   "cell_type": "code",
   "execution_count": 1,
   "metadata": {},
   "outputs": [
    {
     "name": "stdout",
     "output_type": "stream",
     "text": [
      "/home/hyunjun/workspace/FactorSearch (mom)\n"
     ]
    }
   ],
   "source": [
    "cd .."
   ]
  },
  {
   "cell_type": "code",
   "execution_count": 5,
   "metadata": {},
   "outputs": [],
   "source": [
    "import pandas as pd\n",
    "import numpy as np\n",
    "import seaborn as sns\n",
    "import matplotlib.pyplot as plt"
   ]
  },
  {
   "cell_type": "code",
   "execution_count": 18,
   "metadata": {},
   "outputs": [],
   "source": [
    "algo = 'random'\n",
    "\n",
    "pf = pd.read_csv(f'result/seed1/PF_{algo}.csv', index_col=0)\n",
    "pv = pd.read_csv(f'result/seed1/PV_{algo}.csv', index_col=0)\n",
    "po = pd.read_csv(f'result/seed1/PO_{algo}.csv', index_col=0)\n",
    "ti = pd.read_csv(f'result/seed1/TI_{algo}.csv', index_col=0, dtype=str)\n",
    "me = pd.read_csv(f'result/seed1/Me_{algo}.csv', index_col=0)"
   ]
  },
  {
   "cell_type": "code",
   "execution_count": 19,
   "metadata": {},
   "outputs": [
    {
     "data": {
      "text/html": [
       "<div>\n",
       "<style scoped>\n",
       "    .dataframe tbody tr th:only-of-type {\n",
       "        vertical-align: middle;\n",
       "    }\n",
       "\n",
       "    .dataframe tbody tr th {\n",
       "        vertical-align: top;\n",
       "    }\n",
       "\n",
       "    .dataframe thead th {\n",
       "        text-align: right;\n",
       "    }\n",
       "</style>\n",
       "<table border=\"1\" class=\"dataframe\">\n",
       "  <thead>\n",
       "    <tr style=\"text-align: right;\">\n",
       "      <th></th>\n",
       "      <th>0</th>\n",
       "    </tr>\n",
       "  </thead>\n",
       "  <tbody>\n",
       "    <tr>\n",
       "      <th>sharpe</th>\n",
       "      <td>0.0582</td>\n",
       "    </tr>\n",
       "    <tr>\n",
       "      <th>rankic</th>\n",
       "      <td>0.2788</td>\n",
       "    </tr>\n",
       "    <tr>\n",
       "      <th>mdd</th>\n",
       "      <td>60.9101</td>\n",
       "    </tr>\n",
       "  </tbody>\n",
       "</table>\n",
       "</div>"
      ],
      "text/plain": [
       "              0\n",
       "sharpe   0.0582\n",
       "rankic   0.2788\n",
       "mdd     60.9101"
      ]
     },
     "execution_count": 19,
     "metadata": {},
     "output_type": "execute_result"
    }
   ],
   "source": [
    "me"
   ]
  },
  {
   "cell_type": "code",
   "execution_count": 21,
   "metadata": {},
   "outputs": [],
   "source": [
    "from agent import RANDOMSEARCH\n",
    "\n",
    "all = ['1M', '3M', '6M', '9M', '12M', \n",
    "       '12_1M', '12_3M', '12_6M', \n",
    "       '12_9M', 'Kratio']\n",
    "\n",
    "M1 = []\n",
    "M3 = []\n",
    "M6 = []\n",
    "M9 = []\n",
    "M12 = []\n",
    "M12_1 = []\n",
    "M12_3 = []\n",
    "M12_6 = []\n",
    "M12_9 = []\n",
    "KRATIO = []\n",
    "\n",
    "config = {'Number': 10, \n",
    "          'Quantile': 1,\n",
    "          'Balance': 1000,\n",
    "          'Quarter': '1Q',\n",
    "          'Factors': all,\n",
    "          'Dim': 10}\n",
    "\n",
    "for factor in all:\n",
    "    \n",
    "    print(factor)\n",
    "    for i in range(1, 6):\n",
    "        config['Quantile'] = i\n",
    "        config['Factors'] = [factor]\n",
    "\n",
    "        randomsearch = RANDOMSEARCH(config)\n",
    "        randomsearch.init()\n",
    "        PVs, PFs, TIs, POs, result = randomsearch.test()\n",
    "\n",
    "    if factor == 'M1':\n",
    "        M1.append(PVs)\n",
    "\n",
    "    if factor == 'M3':\n",
    "        M1.append(PVs)\n",
    "\n",
    "    if factor == 'M6':\n",
    "        M1.append(PVs)\n",
    "\n",
    "    if factor == 'M9':\n",
    "        M1.append(PVs)\n",
    "\n",
    "    if factor == 'M12':\n",
    "        M1.append(PVs)\n",
    "\n",
    "    if factor == '12_1M':\n",
    "        M1.append(PVs)\n",
    "\n",
    "    if factor == '12_3M':\n",
    "        M1.append(PVs)\n",
    "\n",
    "    if factor == '12_6M':\n",
    "        M1.append(PVs)\n",
    "\n",
    "    if factor == '12_9M':\n",
    "        M1.append(PVs)\n",
    "\n",
    "    if factor == 'Kratio':\n",
    "        KRATIO.append(PVs)"
   ]
  },
  {
   "cell_type": "code",
   "execution_count": null,
   "metadata": {},
   "outputs": [],
   "source": []
  }
 ],
 "metadata": {
  "kernelspec": {
   "display_name": "factor",
   "language": "python",
   "name": "python3"
  },
  "language_info": {
   "codemirror_mode": {
    "name": "ipython",
    "version": 3
   },
   "file_extension": ".py",
   "mimetype": "text/x-python",
   "name": "python",
   "nbconvert_exporter": "python",
   "pygments_lexer": "ipython3",
   "version": "3.9.16"
  },
  "orig_nbformat": 4,
  "vscode": {
   "interpreter": {
    "hash": "f51e0da3e3d90447dcadba55e0cb4a38546033c4e076c9d4b80673409e62cb43"
   }
  }
 },
 "nbformat": 4,
 "nbformat_minor": 2
}

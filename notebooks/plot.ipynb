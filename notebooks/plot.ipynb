{
 "cells": [
  {
   "cell_type": "code",
   "execution_count": 7,
   "metadata": {},
   "outputs": [
    {
     "name": "stdout",
     "output_type": "stream",
     "text": [
      "/home/hyunjun/workspace/FactorSearch (mom)\n"
     ]
    }
   ],
   "source": [
    "cd .."
   ]
  },
  {
   "cell_type": "code",
   "execution_count": 8,
   "metadata": {},
   "outputs": [],
   "source": [
    "import pandas as pd\n",
    "import numpy as np\n",
    "import seaborn as sns\n",
    "import matplotlib.pyplot as plt"
   ]
  },
  {
   "cell_type": "code",
   "execution_count": 85,
   "metadata": {},
   "outputs": [],
   "source": [
    "kospi_ = pd.read_csv('data1/kospi.csv', index_col=0)['2015':'2024']\n",
    "dates = kospi_.index\n",
    "kospi = kospi_.values\n",
    "\n",
    "pv_path = lambda algo, seed: f'result/seed{seed}/PV_{algo}.csv'\n",
    "me_path = lambda algo, seed: f'result/seed{seed}/Me_{algo}.csv'\n",
    "we_path = lambda algo, seed: f'result/seed{seed}/We_{algo}.csv'\n",
    "\n",
    "pv_random = [pd.read_csv(pv_path('random', seed), index_col=0).values.reshape(-1,1) for seed in range(1, 5)]\n",
    "re_random = [pd.read_csv(me_path('random', seed), index_col=0).values.reshape(-1,1) for seed in range(1, 5)]\n",
    "we_random = [pd.read_csv(we_path('random', seed), index_col=0) for seed in range(1, 10)] \n",
    "\n",
    "pv_rl = [pd.read_csv(pv_path('RL', seed), index_col=0) for seed in range(1, 5)]\n",
    "re_rl = [pd.read_csv(me_path('RL', seed), index_col=0) for seed in range(1, 5)]\n",
    "we_rl = [pd.read_csv(we_path('RL', seed), index_col=0) for seed in range(1, 5)]\n",
    "\n",
    "pv_mean_ran = np.mean(np.concatenate(pv_random, axis=-1), axis=-1)\n",
    "pv_std_ran = np.std(np.concatenate(pv_random, axis=-1), axis=-1)\n",
    "pv_mean_rl = np.mean(np.concatenate(pv_rl, axis=-1), axis=-1)\n",
    "pv_std_rl = np.std(np.concatenate(pv_rl, axis=-1), axis=-1)"
   ]
  },
  {
   "cell_type": "code",
   "execution_count": 86,
   "metadata": {},
   "outputs": [],
   "source": [
    "def get_alpha(pv):\n",
    "    free = 0.04 / 12\n",
    "    pv = np.array(pv).reshape(-1)\n",
    "    R_i = (pv[1:] / pv[:-1]) - 1\n",
    "    R_f = (kospi[1:] / kospi[:-1]) - 1\n",
    "    R_f = R_f.reshape(-1)\n",
    "    alpha = np.polyfit(R_f-free, R_i-free, 1)[-1]\n",
    "    return alpha.reshape(1,-1)"
   ]
  },
  {
   "cell_type": "code",
   "execution_count": null,
   "metadata": {},
   "outputs": [],
   "source": [
    "sharpe_random = np.concatenate(re_random, axis=-1)[0] \n",
    "rankic_random = np.concatenate(re_random, axis=-1)[1] \n",
    "mdd_random = np.concatenate(re_random, axis=-1)[2] \n",
    "alpha_random = np.concatenate(list(map(get_alpha, pv_random)), -1)\n",
    "\n",
    "sharpe_rl = np.concatenate(re_rl, axis=-1)[0] \n",
    "rankic_rl = np.concatenate(re_rl, axis=-1)[1] \n",
    "mdd_rl = np.concatenate(re_rl, axis=-1)[2] \n",
    "alpha_rl = np.concatenate(list(map(get_alpha, pv_rl)), -1)\n",
    "\n",
    "print(f'Random search Sharpe: {sharpe_random} \\n')\n",
    "print(f'Random search RankIC: {rankic_random} \\n')\n",
    "print(f'Random search MDD: {mdd_random} \\n')\n",
    "print(f'Random search Alpha: {alpha_random} \\n')\n",
    "\n",
    "print(f'RL search Sharpe: {sharpe_rl} \\n')\n",
    "print(f'RL search RankIC: {rankic_rl} \\n')\n",
    "print(f'RL search MDD: {mdd_rl} \\n')\n",
    "print(f'RL search Alpha: {alpha_rl} \\n')"
   ]
  },
  {
   "cell_type": "code",
   "execution_count": null,
   "metadata": {},
   "outputs": [],
   "source": [
    "index = 4\n",
    "\n",
    "print(np.mean((pv_rl[index].values[1:] - pv_rl[index].values[:-1]) / (pv_rl[index].values[:-1])))\n",
    "print(np.std((pv_rl[index].values[1:] - pv_rl[index].values[:-1]) / (pv_rl[index].values[:-1])))\n",
    "we_rl[index].values"
   ]
  },
  {
   "cell_type": "code",
   "execution_count": 91,
   "metadata": {},
   "outputs": [],
   "source": [
    "def show_plot(seed='all'):\n",
    "    linewidth = 4.0\n",
    "    beta = 0.5\n",
    "    timesteps = [8*i for i in range(14)]\n",
    "\n",
    "    sns.set(style='white')\n",
    "    plt.figure(figsize=(25, 6))\n",
    "    plt.rc('legend', fontsize=20)\n",
    "    plt.xticks(timesteps, dates[timesteps], weight='bold', fontsize=13.5)\n",
    "    plt.yticks(weight='bold', fontsize=13.5)\n",
    "    plt.ylabel('Porftolio Value', weight='bold', fontsize=20)\n",
    "\n",
    "    if seed == 'all':\n",
    "        plt.plot(pv_mean_rl, color=\"C4\", linewidth=linewidth, label='Felector search')\n",
    "        plt.plot(pv_mean_ran, color=\"C7\", linewidth=linewidth, label='Random search')\n",
    "\n",
    "        plt.fill_between(x=np.arange(pv_mean_rl.shape[0]), \n",
    "                        y1=pv_mean_rl + beta*pv_std_rl, \n",
    "                        y2=pv_mean_rl - beta*pv_std_rl, \n",
    "                        alpha=0.3, color=\"C4\")\n",
    "        \n",
    "        plt.fill_between(x=np.arange(pv_mean_ran.shape[0]), \n",
    "                        y1=pv_mean_ran + beta*pv_std_ran, \n",
    "                        y2=pv_mean_ran - beta*pv_std_ran, \n",
    "                        alpha=0.3, color=\"C7\")\n",
    "\n",
    "    else:\n",
    "        plt.plot(pv_rl[seed-1], color=\"C4\", linewidth=linewidth, label='Felector search')\n",
    "        plt.plot(pv_random[seed-1], color=\"C7\", linewidth=linewidth, label='Random search')\n",
    "\n",
    "    plt.title('Test Dataset Backtesting', weight='bold', fontsize=20)\n",
    "    plt.legend()\n",
    "    plt.show()\n",
    "\n",
    "\n",
    "def show_bar(seed):\n",
    "\n",
    "    pvrl = pd.DataFrame(pv_rl[seed-1])\n",
    "    pvra = pd.DataFrame(pv_random[seed-1])\n",
    "\n",
    "    pvrl.index = dates\n",
    "    pvra.index = dates\n",
    "\n",
    "    first_rl = pvrl.groupby(by=pd.to_datetime(dates).year).first()\n",
    "    last_rl = pvrl.groupby(by=pd.to_datetime(dates).year).last()\n",
    "\n",
    "    first_ra = pvra.groupby(by=pd.to_datetime(dates).year).first()\n",
    "    last_ra = pvra.groupby(by=pd.to_datetime(dates).year).last()\n",
    "\n",
    "    year_rl = (last_rl-first_rl) / first_rl\n",
    "    year_ra = (last_ra-first_ra) / first_ra\n",
    "\n",
    "    w = 0.5\n",
    "    plt.figure(figsize=(10,5))\n",
    "    plt.rc('legend', fontsize=20)\n",
    "\n",
    "    plt.xticks(ticks=np.arange(1,9)+0.15/2, labels=[str(i) for i in range(2016, 2024)], weight='bold', fontsize=13.5)\n",
    "    plt.yticks(weight='bold', fontsize=13.5)\n",
    "    plt.ylabel('Porftolio Value', weight='bold', fontsize=20)\n",
    "\n",
    "    plt.bar(x=np.arange(1,9), height=year_rl['0'].values[1:], width=w, color='C4')\n",
    "    plt.bar(x=np.arange(1,9)+0.15, height=year_ra[0].values[1:], width=w, color='C7')\n",
    "    plt.title(f'Yearly Portfolio Return: Seed {seed}', weight='bold', fontsize=20)\n",
    "\n",
    "    plt.show()"
   ]
  },
  {
   "cell_type": "code",
   "execution_count": null,
   "metadata": {},
   "outputs": [],
   "source": [
    "show_plot(5)"
   ]
  },
  {
   "cell_type": "code",
   "execution_count": null,
   "metadata": {},
   "outputs": [],
   "source": [
    "show_bar(0)"
   ]
  }
 ],
 "metadata": {
  "kernelspec": {
   "display_name": "factor",
   "language": "python",
   "name": "python3"
  },
  "language_info": {
   "codemirror_mode": {
    "name": "ipython",
    "version": 3
   },
   "file_extension": ".py",
   "mimetype": "text/x-python",
   "name": "python",
   "nbconvert_exporter": "python",
   "pygments_lexer": "ipython3",
   "version": "3.9.16"
  },
  "orig_nbformat": 4,
  "vscode": {
   "interpreter": {
    "hash": "f51e0da3e3d90447dcadba55e0cb4a38546033c4e076c9d4b80673409e62cb43"
   }
  }
 },
 "nbformat": 4,
 "nbformat_minor": 2
}
